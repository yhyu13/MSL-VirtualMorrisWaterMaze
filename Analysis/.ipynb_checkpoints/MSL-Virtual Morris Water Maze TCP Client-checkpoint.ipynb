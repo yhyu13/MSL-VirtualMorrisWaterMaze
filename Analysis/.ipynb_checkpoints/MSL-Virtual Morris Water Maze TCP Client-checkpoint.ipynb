{
 "cells": [
  {
   "cell_type": "markdown",
   "metadata": {},
   "source": [
    "# A3C Virtual Morris Water Maze\n",
    "\n",
    "VMWM unity environment is a play ground to test navigation ability of patient with hippocampus trauma. Test subject is randomly rebornd and is to relocate the platform by using visual cues only after flags (show where the platform is under the water surface) are off.\n",
    "\n",
    "The A.I. agent is to replicte similar behavior by using state-of-the-art deep learning model. \n",
    "\n",
    "![Maze.png](maze.png)"
   ]
  },
  {
   "cell_type": "markdown",
   "metadata": {},
   "source": [
    "## Import Package"
   ]
  },
  {
   "cell_type": "code",
   "execution_count": 1,
   "metadata": {
    "collapsed": false
   },
   "outputs": [],
   "source": [
    "%matplotlib inline\n",
    "from model import *"
   ]
  },
  {
   "cell_type": "markdown",
   "metadata": {},
   "source": [
    "## VMWM Setup"
   ]
  },
  {
   "cell_type": "code",
   "execution_count": 2,
   "metadata": {
    "collapsed": true
   },
   "outputs": [],
   "source": [
    "max_episode_length = 200\n",
    "gamma = .99 # discount rate for advantage estimation and reward discounting\n",
    "s_size = 7056 # Observations are greyscale frames of 84 * 84 * 1\n",
    "a_size = 3 # Agent can move Left, Right, or Fire\n",
    "load_model = False\n",
    "model_path = './model'\n",
    "noisy=True"
   ]
  },
  {
   "cell_type": "markdown",
   "metadata": {},
   "source": [
    "## VMWM Train"
   ]
  },
  {
   "cell_type": "code",
   "execution_count": 3,
   "metadata": {
    "collapsed": false
   },
   "outputs": [
    {
     "name": "stdout",
     "output_type": "stream",
     "text": [
      "('127.0.0.1', 51831)\n",
      "Port being used: 51831\n",
      "local host--127.0.0.1:51831\n",
      "Starting worker 0\n"
     ]
    },
    {
     "name": "stderr",
     "output_type": "stream",
     "text": [
      "Exception in thread Thread-7:\n",
      "Traceback (most recent call last):\n",
      "  File \"C:\\Users\\YuHang\\Anaconda2\\envs\\Maze\\lib\\threading.py\", line 914, in _bootstrap_inner\n",
      "    self.run()\n",
      "  File \"C:\\Users\\YuHang\\Anaconda2\\envs\\Maze\\lib\\threading.py\", line 862, in run\n",
      "    self._target(*self._args, **self._kwargs)\n",
      "  File \"<ipython-input-3-c11c7d5be6a8>\", line 36, in <lambda>\n",
      "    worker_work = lambda: worker.work(max_episode_length,gamma,sess,coord,saver)\n",
      "  File \"C:\\Users\\YuHang\\Desktop\\Water_Maze\\v0.18\\Analysis\\model.py\", line 328, in work\n",
      "    images = np.array(episode_frames)\n",
      "ValueError: could not broadcast input array from shape (200,320,3) into shape (200,320)\n",
      "\n"
     ]
    }
   ],
   "source": [
    "tf.reset_default_graph()\n",
    "\n",
    "if not os.path.exists(model_path):\n",
    "    os.makedirs(model_path)\n",
    "    \n",
    "#Create a directory to save episode playback gifs to\n",
    "if not os.path.exists('./frames'):\n",
    "    os.makedirs('./frames')\n",
    "\n",
    "with tf.device(\"/cpu:0\"): \n",
    "    global_episodes = tf.Variable(0,dtype=tf.int32,name='global_episodes',trainable=False)\n",
    "    trainer = tf.train.AdamOptimizer(learning_rate=1e-4)\n",
    "    master_network = AC_Network(s_size,a_size,'global',None,noisy) # Generate global network\n",
    "    num_workers = multiprocessing.cpu_count() # Set workers ot number of available CPU threads\n",
    "    workers = []\n",
    "    # Create worker classes\n",
    "    for i in range(1):\n",
    "        worker = Worker(i,s_size,a_size,trainer,model_path,global_episodes,noisy)\n",
    "        workers.append(worker)\n",
    "        worker.start(setting=0)\n",
    "    saver = tf.train.Saver(max_to_keep=5)\n",
    "\n",
    "with tf.Session() as sess:\n",
    "    coord = tf.train.Coordinator()\n",
    "    if load_model == True:\n",
    "        print ('Loading Model...')\n",
    "        ckpt = tf.train.get_checkpoint_state(model_path)\n",
    "        saver.restore(sess,ckpt.model_checkpoint_path)\n",
    "    else:\n",
    "        sess.run(tf.global_variables_initializer())\n",
    "        \n",
    "    # This is where the asynchronous magic happens.\n",
    "    # Start the \"work\" process for each worker in a separate thread.\n",
    "    worker_threads = []\n",
    "    for worker in workers:\n",
    "        worker_work = lambda: worker.work(max_episode_length,gamma,sess,coord,saver)\n",
    "        t = threading.Thread(target=(worker_work))\n",
    "        t.start()\n",
    "        sleep(0.5)\n",
    "        worker_threads.append(t)\n",
    "    coord.join(worker_threads)"
   ]
  },
  {
   "cell_type": "markdown",
   "metadata": {},
   "source": [
    "## My Worker"
   ]
  },
  {
   "cell_type": "code",
   "execution_count": 19,
   "metadata": {
    "collapsed": false
   },
   "outputs": [
    {
     "data": {
      "text/plain": [
       "'class Worker():\\n\\n    def __init__(self,name):\\n        self.name = \"worker_\" + str(name)\\n        self.number = name\\n        sock = socket.socket(socket.AF_INET, socket.SOCK_STREAM)\\n        sock.bind((\\'127.0.0.1\\', 0))\\n        port = sock.getsockname()[1]\\n        print(sock.getsockname())\\n        #sock.shutdown(socket.SHUT_WR)\\n        self.env = VMWMGame(cfg_location,exe_location)\\n        self.env.reset_cfg()\\n        self.env.set_trial(\\'Practice - Hills\\')\\n        self.env.set_local_host(\\'127.0.0.1\\', port) # local host IP address & dynamic allocated port \\n    \\n    def start(self):\\n        self.env.start(setting=1)\\n        \\n    def work(self):\\n        self.env.start_trial()\\n        sleep(0.5)\\n        #print(\\'OK\\')\\n        for i in range(20):\\n            #print(\\'In action\\')\\n            while(not self.env.is_episode_finished()):\\n                #cv2.imshow(\\'frame\\', env.get_screenImage())\\n                #cv2.waitKey(1)\\n                self.env.make_action(2,50)\\n                #print(env.get_reward())\\n                #print(env.get_score())\\n            self.env.new_episode()\\n            \\n        self.env.end_trial()\\n        self.env.s.close()'"
      ]
     },
     "execution_count": 19,
     "metadata": {},
     "output_type": "execute_result"
    }
   ],
   "source": [
    "\"\"\"class Worker():\n",
    "\n",
    "    def __init__(self,name):\n",
    "        self.name = \"worker_\" + str(name)\n",
    "        self.number = name\n",
    "        sock = socket.socket(socket.AF_INET, socket.SOCK_STREAM)\n",
    "        sock.bind(('127.0.0.1', 0))\n",
    "        port = sock.getsockname()[1]\n",
    "        print(sock.getsockname())\n",
    "        #sock.shutdown(socket.SHUT_WR)\n",
    "        self.env = VMWMGame(cfg_location,exe_location)\n",
    "        self.env.reset_cfg()\n",
    "        self.env.set_trial('Practice - Hills')\n",
    "        self.env.set_local_host('127.0.0.1', port) # local host IP address & dynamic allocated port \n",
    "    \n",
    "    def start(self):\n",
    "        self.env.start(setting=1)\n",
    "        \n",
    "    def work(self):\n",
    "        self.env.start_trial()\n",
    "        sleep(0.5)\n",
    "        #print('OK')\n",
    "        for i in range(20):\n",
    "            #print('In action')\n",
    "            while(not self.env.is_episode_finished()):\n",
    "                #cv2.imshow('frame', env.get_screenImage())\n",
    "                #cv2.waitKey(1)\n",
    "                self.env.make_action(2,50)\n",
    "                #print(env.get_reward())\n",
    "                #print(env.get_score())\n",
    "            self.env.new_episode()\n",
    "            \n",
    "        self.env.end_trial()\n",
    "        self.env.s.close()\"\"\""
   ]
  }
 ],
 "metadata": {
  "anaconda-cloud": {},
  "kernelspec": {
   "display_name": "Python [conda env:Maze]",
   "language": "python",
   "name": "conda-env-Maze-py"
  },
  "language_info": {
   "codemirror_mode": {
    "name": "ipython",
    "version": 3
   },
   "file_extension": ".py",
   "mimetype": "text/x-python",
   "name": "python",
   "nbconvert_exporter": "python",
   "pygments_lexer": "ipython3",
   "version": "3.5.3"
  }
 },
 "nbformat": 4,
 "nbformat_minor": 1
}
