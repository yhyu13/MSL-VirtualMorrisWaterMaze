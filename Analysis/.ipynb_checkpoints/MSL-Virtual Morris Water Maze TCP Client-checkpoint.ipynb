{
 "cells": [
  {
   "cell_type": "markdown",
   "metadata": {},
   "source": [
    "# A3C Virtual Morris Water Maze\n",
    "\n",
    "VMWM unity environment is a play ground to test navigation ability of patient with hippocampus trauma. Test subject is randomly rebornd and is to relocate the platform by using visual cues only after flags (show where the platform is under the water surface) are off.\n",
    "\n",
    "The A.I. agent is to replicte similar behavior by using state-of-the-art deep learning model. \n",
    "\n",
    "![Maze.png](maze.png)"
   ]
  },
  {
   "cell_type": "markdown",
   "metadata": {},
   "source": [
    "## Import Package"
   ]
  },
  {
   "cell_type": "code",
   "execution_count": 2,
   "metadata": {
    "collapsed": false
   },
   "outputs": [],
   "source": [
    "from envVMWM import *\n",
    "exe_location='C:\\\\Users\\\\YuHang\\\\Desktop\\\\Water_Maze\\\\v0.18\\\\VMWM.exe'\n",
    "cfg_location = 'C:\\\\Users\\\\YuHang\\\\Desktop\\\\Water_Maze\\\\v0.18\\\\VMWM_data\\\\configuration_original.txt'\n",
    "%matplotlib inline\n",
    "from A3CNetwork import *"
   ]
  },
  {
   "cell_type": "markdown",
   "metadata": {},
   "source": [
    "## VMWM Setup"
   ]
  },
  {
   "cell_type": "code",
   "execution_count": 3,
   "metadata": {
    "collapsed": true
   },
   "outputs": [],
   "source": [
    "max_episode_length = 200\n",
    "gamma = .99 # discount rate for advantage estimation and reward discounting\n",
    "s_size = 7056 # Observations are greyscale frames of 84 * 84 * 1\n",
    "a_size = 3 # Agent can move Left, Right, or Fire\n",
    "load_model = False\n",
    "model_path = './model'"
   ]
  },
  {
   "cell_type": "markdown",
   "metadata": {},
   "source": [
    "## VMWM Train"
   ]
  },
  {
   "cell_type": "code",
   "execution_count": 4,
   "metadata": {
    "collapsed": false
   },
   "outputs": [
    {
     "ename": "NameError",
     "evalue": "name 'socket' is not defined",
     "output_type": "error",
     "traceback": [
      "\u001b[1;31m---------------------------------------------------------------------------\u001b[0m",
      "\u001b[1;31mNameError\u001b[0m                                 Traceback (most recent call last)",
      "\u001b[1;32m<ipython-input-4-935916bff92e>\u001b[0m in \u001b[0;36m<module>\u001b[1;34m()\u001b[0m\n\u001b[0;32m     16\u001b[0m     \u001b[1;31m# Create worker classes\u001b[0m\u001b[1;33m\u001b[0m\u001b[1;33m\u001b[0m\u001b[0m\n\u001b[0;32m     17\u001b[0m     \u001b[1;32mfor\u001b[0m \u001b[0mi\u001b[0m \u001b[1;32min\u001b[0m \u001b[0mrange\u001b[0m\u001b[1;33m(\u001b[0m\u001b[1;36m1\u001b[0m\u001b[1;33m)\u001b[0m\u001b[1;33m:\u001b[0m\u001b[1;33m\u001b[0m\u001b[0m\n\u001b[1;32m---> 18\u001b[1;33m         \u001b[0mworker\u001b[0m \u001b[1;33m=\u001b[0m \u001b[0mWorker\u001b[0m\u001b[1;33m(\u001b[0m\u001b[0mi\u001b[0m\u001b[1;33m,\u001b[0m\u001b[0ms_size\u001b[0m\u001b[1;33m,\u001b[0m\u001b[0ma_size\u001b[0m\u001b[1;33m,\u001b[0m\u001b[0mtrainer\u001b[0m\u001b[1;33m,\u001b[0m\u001b[0mmodel_path\u001b[0m\u001b[1;33m,\u001b[0m\u001b[0mglobal_episodes\u001b[0m\u001b[1;33m)\u001b[0m\u001b[1;33m\u001b[0m\u001b[0m\n\u001b[0m\u001b[0;32m     19\u001b[0m         \u001b[0mworkers\u001b[0m\u001b[1;33m.\u001b[0m\u001b[0mappend\u001b[0m\u001b[1;33m(\u001b[0m\u001b[0mworker\u001b[0m\u001b[1;33m)\u001b[0m\u001b[1;33m\u001b[0m\u001b[0m\n\u001b[0;32m     20\u001b[0m         \u001b[0mworker\u001b[0m\u001b[1;33m.\u001b[0m\u001b[0mstart\u001b[0m\u001b[1;33m(\u001b[0m\u001b[0msetting\u001b[0m\u001b[1;33m=\u001b[0m\u001b[1;36m0\u001b[0m\u001b[1;33m)\u001b[0m\u001b[1;33m\u001b[0m\u001b[0m\n",
      "\u001b[1;32mC:\\Users\\YuHang\\Desktop\\Water_Maze\\v0.18\\Analysis\\A3CNetwork.py\u001b[0m in \u001b[0;36m__init__\u001b[1;34m(self, name, s_size, a_size, trainer, model_path, global_episodes)\u001b[0m\n\u001b[0;32m    149\u001b[0m \u001b[1;33m\u001b[0m\u001b[0m\n\u001b[0;32m    150\u001b[0m         \u001b[1;31m#Set up VMWM env\u001b[0m\u001b[1;33m\u001b[0m\u001b[1;33m\u001b[0m\u001b[0m\n\u001b[1;32m--> 151\u001b[1;33m         \u001b[0msock\u001b[0m \u001b[1;33m=\u001b[0m \u001b[0msocket\u001b[0m\u001b[1;33m.\u001b[0m\u001b[0msocket\u001b[0m\u001b[1;33m(\u001b[0m\u001b[0msocket\u001b[0m\u001b[1;33m.\u001b[0m\u001b[0mAF_INET\u001b[0m\u001b[1;33m,\u001b[0m \u001b[0msocket\u001b[0m\u001b[1;33m.\u001b[0m\u001b[0mSOCK_STREAM\u001b[0m\u001b[1;33m)\u001b[0m\u001b[1;33m\u001b[0m\u001b[0m\n\u001b[0m\u001b[0;32m    152\u001b[0m         \u001b[0msock\u001b[0m\u001b[1;33m.\u001b[0m\u001b[0mbind\u001b[0m\u001b[1;33m(\u001b[0m\u001b[1;33m(\u001b[0m\u001b[1;34m'127.0.0.1'\u001b[0m\u001b[1;33m,\u001b[0m \u001b[1;36m0\u001b[0m\u001b[1;33m)\u001b[0m\u001b[1;33m)\u001b[0m\u001b[1;33m\u001b[0m\u001b[0m\n\u001b[0;32m    153\u001b[0m         \u001b[0mport\u001b[0m \u001b[1;33m=\u001b[0m \u001b[0msock\u001b[0m\u001b[1;33m.\u001b[0m\u001b[0mgetsockname\u001b[0m\u001b[1;33m(\u001b[0m\u001b[1;33m)\u001b[0m\u001b[1;33m[\u001b[0m\u001b[1;36m1\u001b[0m\u001b[1;33m]\u001b[0m\u001b[1;33m\u001b[0m\u001b[0m\n",
      "\u001b[1;31mNameError\u001b[0m: name 'socket' is not defined"
     ]
    }
   ],
   "source": [
    "tf.reset_default_graph()\n",
    "\n",
    "if not os.path.exists(model_path):\n",
    "    os.makedirs(model_path)\n",
    "    \n",
    "#Create a directory to save episode playback gifs to\n",
    "if not os.path.exists('./frames'):\n",
    "    os.makedirs('./frames')\n",
    "\n",
    "with tf.device(\"/cpu:0\"): \n",
    "    global_episodes = tf.Variable(0,dtype=tf.int32,name='global_episodes',trainable=False)\n",
    "    trainer = tf.train.AdamOptimizer(learning_rate=1e-4)\n",
    "    master_network = AC_Network(s_size,a_size,'global',None) # Generate global network\n",
    "    num_workers = multiprocessing.cpu_count() # Set workers ot number of available CPU threads\n",
    "    workers = []\n",
    "    # Create worker classes\n",
    "    for i in range(1):\n",
    "        worker = Worker(i,s_size,a_size,trainer,model_path,global_episodes)\n",
    "        workers.append(worker)\n",
    "        worker.start(setting=0)\n",
    "    saver = tf.train.Saver(max_to_keep=5)\n",
    "\n",
    "with tf.Session() as sess:\n",
    "    coord = tf.train.Coordinator()\n",
    "    if load_model == True:\n",
    "        print ('Loading Model...')\n",
    "        ckpt = tf.train.get_checkpoint_state(model_path)\n",
    "        saver.restore(sess,ckpt.model_checkpoint_path)\n",
    "    else:\n",
    "        sess.run(tf.global_variables_initializer())\n",
    "        \n",
    "    # This is where the asynchronous magic happens.\n",
    "    # Start the \"work\" process for each worker in a separate threat.\n",
    "    worker_threads = []\n",
    "    for worker in workers:\n",
    "        worker_work = lambda: worker.work(max_episode_length,gamma,sess,coord,saver)\n",
    "        t = threading.Thread(target=(worker_work))\n",
    "        t.start()\n",
    "        sleep(0.5)\n",
    "        worker_threads.append(t)\n",
    "    coord.join(worker_threads)"
   ]
  },
  {
   "cell_type": "markdown",
   "metadata": {},
   "source": [
    "## My Worker"
   ]
  },
  {
   "cell_type": "code",
   "execution_count": 19,
   "metadata": {
    "collapsed": false
   },
   "outputs": [
    {
     "data": {
      "text/plain": [
       "'class Worker():\\n\\n    def __init__(self,name):\\n        self.name = \"worker_\" + str(name)\\n        self.number = name\\n        sock = socket.socket(socket.AF_INET, socket.SOCK_STREAM)\\n        sock.bind((\\'127.0.0.1\\', 0))\\n        port = sock.getsockname()[1]\\n        print(sock.getsockname())\\n        #sock.shutdown(socket.SHUT_WR)\\n        self.env = VMWMGame(cfg_location,exe_location)\\n        self.env.reset_cfg()\\n        self.env.set_trial(\\'Practice - Hills\\')\\n        self.env.set_local_host(\\'127.0.0.1\\', port) # local host IP address & dynamic allocated port \\n    \\n    def start(self):\\n        self.env.start(setting=1)\\n        \\n    def work(self):\\n        self.env.start_trial()\\n        sleep(0.5)\\n        #print(\\'OK\\')\\n        for i in range(20):\\n            #print(\\'In action\\')\\n            while(not self.env.is_episode_finished()):\\n                #cv2.imshow(\\'frame\\', env.get_screenImage())\\n                #cv2.waitKey(1)\\n                self.env.make_action(2,50)\\n                #print(env.get_reward())\\n                #print(env.get_score())\\n            self.env.new_episode()\\n            \\n        self.env.end_trial()\\n        self.env.s.close()'"
      ]
     },
     "execution_count": 19,
     "metadata": {},
     "output_type": "execute_result"
    }
   ],
   "source": [
    "\"\"\"class Worker():\n",
    "\n",
    "    def __init__(self,name):\n",
    "        self.name = \"worker_\" + str(name)\n",
    "        self.number = name\n",
    "        sock = socket.socket(socket.AF_INET, socket.SOCK_STREAM)\n",
    "        sock.bind(('127.0.0.1', 0))\n",
    "        port = sock.getsockname()[1]\n",
    "        print(sock.getsockname())\n",
    "        #sock.shutdown(socket.SHUT_WR)\n",
    "        self.env = VMWMGame(cfg_location,exe_location)\n",
    "        self.env.reset_cfg()\n",
    "        self.env.set_trial('Practice - Hills')\n",
    "        self.env.set_local_host('127.0.0.1', port) # local host IP address & dynamic allocated port \n",
    "    \n",
    "    def start(self):\n",
    "        self.env.start(setting=1)\n",
    "        \n",
    "    def work(self):\n",
    "        self.env.start_trial()\n",
    "        sleep(0.5)\n",
    "        #print('OK')\n",
    "        for i in range(20):\n",
    "            #print('In action')\n",
    "            while(not self.env.is_episode_finished()):\n",
    "                #cv2.imshow('frame', env.get_screenImage())\n",
    "                #cv2.waitKey(1)\n",
    "                self.env.make_action(2,50)\n",
    "                #print(env.get_reward())\n",
    "                #print(env.get_score())\n",
    "            self.env.new_episode()\n",
    "            \n",
    "        self.env.end_trial()\n",
    "        self.env.s.close()\"\"\""
   ]
  }
 ],
 "metadata": {
  "anaconda-cloud": {},
  "kernelspec": {
   "display_name": "Python [conda env:Maze]",
   "language": "python",
   "name": "conda-env-Maze-py"
  },
  "language_info": {
   "codemirror_mode": {
    "name": "ipython",
    "version": 3
   },
   "file_extension": ".py",
   "mimetype": "text/x-python",
   "name": "python",
   "nbconvert_exporter": "python",
   "pygments_lexer": "ipython3",
   "version": "3.5.3"
  }
 },
 "nbformat": 4,
 "nbformat_minor": 1
}
