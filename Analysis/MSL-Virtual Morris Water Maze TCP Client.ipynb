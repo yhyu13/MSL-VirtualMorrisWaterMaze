{
 "cells": [
  {
   "cell_type": "code",
   "execution_count": 1,
   "metadata": {
    "collapsed": false
   },
   "outputs": [],
   "source": [
    "from envVMWM import *\n",
    "exe_location='C:\\\\Users\\\\YuHang\\\\Desktop\\\\Water_Maze\\\\v0.17\\\\VMWM.exe'\n",
    "cfg_location = 'C:\\\\Users\\\\YuHang\\\\Desktop\\\\Water_Maze\\\\v0.17\\\\VMWM_data\\\\configuration_original.txt'"
   ]
  },
  {
   "cell_type": "code",
   "execution_count": 2,
   "metadata": {
    "collapsed": false
   },
   "outputs": [],
   "source": [
    "env = VMWMGame(cfg_location)\n",
    "env.reset_cfg()\n",
    "\n",
    "env.set_trial('Practice - Hills')\n",
    "env.set_exe_location(exe_location)\n",
    "env.set_IP_address('127.0.0.1')"
   ]
  },
  {
   "cell_type": "code",
   "execution_count": null,
   "metadata": {
    "collapsed": false
   },
   "outputs": [
    {
     "name": "stdout",
     "output_type": "stream",
     "text": [
      "Sleep for 10s to ensure fully load up.\n",
      "connection start\n",
      "connection established\n",
      "Done\n"
     ]
    }
   ],
   "source": [
    "env.start()\n",
    "env.start_trial()"
   ]
  },
  {
   "cell_type": "code",
   "execution_count": null,
   "metadata": {
    "collapsed": true
   },
   "outputs": [],
   "source": [
    "import cv2\n",
    "cv2.startWindowThread()\n",
    "\n",
    "for i in range(20):\n",
    "    while(not env.is_episode_finished()):\n",
    "        cv2.imshow('frame', env.get_screenImage())\n",
    "        cv2.waitKey(1)\n",
    "        env.make_action(2,50)\n",
    "        #print(env.get_reward())\n",
    "        #print(env.get_score())\n",
    "    env.new_episode()\n",
    "    \n",
    "env.end_trial()\n",
    "env.s.close()\n",
    "cv2.destroyAllWindows()"
   ]
  },
  {
   "cell_type": "code",
   "execution_count": null,
   "metadata": {
    "collapsed": true
   },
   "outputs": [],
   "source": []
  }
 ],
 "metadata": {
  "anaconda-cloud": {},
  "kernelspec": {
   "display_name": "Python [conda env:Maze]",
   "language": "python",
   "name": "conda-env-Maze-py"
  },
  "language_info": {
   "codemirror_mode": {
    "name": "ipython",
    "version": 3
   },
   "file_extension": ".py",
   "mimetype": "text/x-python",
   "name": "python",
   "nbconvert_exporter": "python",
   "pygments_lexer": "ipython3",
   "version": "3.5.3"
  }
 },
 "nbformat": 4,
 "nbformat_minor": 1
}
