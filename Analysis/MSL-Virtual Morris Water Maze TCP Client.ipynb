{
 "cells": [
  {
   "cell_type": "code",
   "execution_count": 12,
   "metadata": {
    "collapsed": false
   },
   "outputs": [],
   "source": [
    "import threading\n",
    "import multiprocessing\n",
    "from time import sleep\n",
    "import socket\n",
    "\n",
    "from envVMWM import *\n",
    "exe_location='C:\\\\Users\\\\YuHang\\\\Desktop\\\\Water_Maze\\\\v0.17\\\\VMWM.exe'\n",
    "cfg_location = 'C:\\\\Users\\\\YuHang\\\\Desktop\\\\Water_Maze\\\\v0.17\\\\VMWM_data\\\\configuration_original.txt'"
   ]
  },
  {
   "cell_type": "code",
   "execution_count": 13,
   "metadata": {
    "collapsed": false
   },
   "outputs": [],
   "source": [
    "class Worker():\n",
    "\n",
    "    def __init__(self,name):\n",
    "        self.name = \"worker_\" + str(name)\n",
    "        self.number = name\n",
    "        sock = socket.socket(socket.AF_INET, socket.SOCK_STREAM)\n",
    "        sock.bind(('127.0.0.1', 0))\n",
    "        port = sock.getsockname()[1]\n",
    "        print(sock.getsockname())\n",
    "        #sock.shutdown(socket.SHUT_WR)\n",
    "        self.env = VMWMGame(cfg_location,exe_location)\n",
    "        self.env.reset_cfg()\n",
    "        self.env.set_trial('Practice - Hills')\n",
    "        self.env.set_local_host('127.0.0.1', port) # local host IP address & dynamic allocated port \n",
    "    \n",
    "    def start(self):\n",
    "        self.env.start()\n",
    "        \n",
    "    def work(self):\n",
    "        self.env.start_trial()\n",
    "        sleep(0.5)\n",
    "        #print('OK')\n",
    "        for i in range(20):\n",
    "            #print('In action')\n",
    "            while(not self.env.is_episode_finished()):\n",
    "                #cv2.imshow('frame', env.get_screenImage())\n",
    "                #cv2.waitKey(1)\n",
    "                self.env.make_action(2,50)\n",
    "                #print(env.get_reward())\n",
    "                #print(env.get_score())\n",
    "            self.env.new_episode()\n",
    "            \n",
    "        self.env.end_trial()\n",
    "        self.env.s.close()"
   ]
  },
  {
   "cell_type": "code",
   "execution_count": 14,
   "metadata": {
    "collapsed": false
   },
   "outputs": [
    {
     "name": "stdout",
     "output_type": "stream",
     "text": [
      "('127.0.0.1', 56693)\n",
      "Port being used: 56693\n",
      "Wait for 8s to ensure fully load up.\n",
      "local host--127.0.0.1:56693\n",
      "Worker #51689 set up is done.\n",
      "('127.0.0.1', 56701)\n",
      "Port being used: 56701\n",
      "Wait for 8s to ensure fully load up.\n",
      "local host--127.0.0.1:56701\n",
      "Worker #51697 set up is done.\n",
      "Doesn't read episode info.\n"
     ]
    },
    {
     "name": "stderr",
     "output_type": "stream",
     "text": [
      "Exception in thread Thread-6:\n",
      "Traceback (most recent call last):\n",
      "  File \"C:\\Users\\YuHang\\Anaconda2\\envs\\Maze\\lib\\threading.py\", line 914, in _bootstrap_inner\n",
      "    self.run()\n",
      "  File \"C:\\Users\\YuHang\\Anaconda2\\envs\\Maze\\lib\\threading.py\", line 862, in run\n",
      "    self._target(*self._args, **self._kwargs)\n",
      "  File \"<ipython-input-14-50081e8e9f38>\", line 11, in <lambda>\n",
      "    worker_work = lambda: worker.work()\n",
      "  File \"<ipython-input-13-294f47b68c2d>\", line 25, in work\n",
      "    while(not self.env.is_episode_finished()):\n",
      "  File \"C:\\Users\\YuHang\\Desktop\\Water_Maze\\v0.17\\Analysis\\envVMWM.py\", line 246, in is_episode_finished\n",
      "    self.s.send(bytes(\"EpisodeEnd\" + END_TOKEN, 'utf8'))\n",
      "ConnectionAbortedError: [WinError 10053] An established connection was aborted by the software in your host machine\n",
      "\n"
     ]
    },
    {
     "name": "stdout",
     "output_type": "stream",
     "text": [
      "Doesn't read episode info.\n"
     ]
    },
    {
     "name": "stderr",
     "output_type": "stream",
     "text": [
      "Exception in thread Thread-7:\n",
      "Traceback (most recent call last):\n",
      "  File \"C:\\Users\\YuHang\\Anaconda2\\envs\\Maze\\lib\\threading.py\", line 914, in _bootstrap_inner\n",
      "    self.run()\n",
      "  File \"C:\\Users\\YuHang\\Anaconda2\\envs\\Maze\\lib\\threading.py\", line 862, in run\n",
      "    self._target(*self._args, **self._kwargs)\n",
      "  File \"<ipython-input-14-50081e8e9f38>\", line 11, in <lambda>\n",
      "    worker_work = lambda: worker.work()\n",
      "  File \"<ipython-input-13-294f47b68c2d>\", line 25, in work\n",
      "    while(not self.env.is_episode_finished()):\n",
      "  File \"C:\\Users\\YuHang\\Desktop\\Water_Maze\\v0.17\\Analysis\\envVMWM.py\", line 246, in is_episode_finished\n",
      "    self.s.send(bytes(\"EpisodeEnd\" + END_TOKEN, 'utf8'))\n",
      "ConnectionAbortedError: [WinError 10053] An established connection was aborted by the software in your host machine\n",
      "\n"
     ]
    }
   ],
   "source": [
    "num_workers = multiprocessing.cpu_count() # Set workers ot number of available CPU threads\n",
    "workers = []\n",
    "# Create worker classes\n",
    "for i in range(2):\n",
    "    worker = Worker(i)\n",
    "    workers.append(worker)\n",
    "    worker.start()\n",
    "    \n",
    "worker_threads = []\n",
    "for worker in workers:\n",
    "    worker_work = lambda: worker.work()\n",
    "    t = threading.Thread(target=(worker_work))\n",
    "    t.start()\n",
    "    sleep(1)\n",
    "    worker_threads.append(t)"
   ]
  },
  {
   "cell_type": "code",
   "execution_count": null,
   "metadata": {
    "collapsed": true
   },
   "outputs": [],
   "source": []
  }
 ],
 "metadata": {
  "anaconda-cloud": {},
  "kernelspec": {
   "display_name": "Python [conda env:Maze]",
   "language": "python",
   "name": "conda-env-Maze-py"
  },
  "language_info": {
   "codemirror_mode": {
    "name": "ipython",
    "version": 3
   },
   "file_extension": ".py",
   "mimetype": "text/x-python",
   "name": "python",
   "nbconvert_exporter": "python",
   "pygments_lexer": "ipython3",
   "version": "3.5.3"
  }
 },
 "nbformat": 4,
 "nbformat_minor": 1
}
