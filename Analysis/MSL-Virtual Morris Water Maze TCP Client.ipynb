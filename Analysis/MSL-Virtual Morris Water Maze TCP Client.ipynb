{
 "cells": [
  {
   "cell_type": "code",
   "execution_count": 14,
   "metadata": {
    "collapsed": false
   },
   "outputs": [],
   "source": [
    "from envVMWM import *\n",
    "\n",
    "exe_location='C:\\\\Users\\\\YuHang\\\\Desktop\\\\Water_Maze\\\\v0.17\\\\VMWM.exe'\n",
    "cfg_location = 'C:\\\\Users\\\\YuHang\\\\Desktop\\\\Water_Maze\\\\v0.17\\\\VMWM_Data\\\\configuration_original.txt'"
   ]
  },
  {
   "cell_type": "code",
   "execution_count": 15,
   "metadata": {
    "collapsed": false
   },
   "outputs": [],
   "source": [
    "env = VMWMGame(cfg_location)\n",
    "env.reset_cfg()\n",
    "\n",
    "env.set_trial('Practice - Hills')\n",
    "env.set_exe_location(exe_location)\n",
    "env.set_IP_address('192.168.56.1')"
   ]
  },
  {
   "cell_type": "code",
   "execution_count": 16,
   "metadata": {
    "collapsed": false
   },
   "outputs": [
    {
     "name": "stdout",
     "output_type": "stream",
     "text": [
      "Sleep for 10s to ensure fully load up.\n",
      "connection start\n"
     ]
    },
    {
     "ename": "TimeoutError",
     "evalue": "[WinError 10060] A connection attempt failed because the connected party did not properly respond after a period of time, or established connection failed because connected host has failed to respond",
     "output_type": "error",
     "traceback": [
      "\u001b[1;31m---------------------------------------------------------------------------\u001b[0m",
      "\u001b[1;31mTimeoutError\u001b[0m                              Traceback (most recent call last)",
      "\u001b[1;32m<ipython-input-16-7a12827daa3e>\u001b[0m in \u001b[0;36m<module>\u001b[1;34m()\u001b[0m\n\u001b[1;32m----> 1\u001b[1;33m \u001b[0menv\u001b[0m\u001b[1;33m.\u001b[0m\u001b[0mstart\u001b[0m\u001b[1;33m(\u001b[0m\u001b[1;33m)\u001b[0m\u001b[1;33m\u001b[0m\u001b[0m\n\u001b[0m",
      "\u001b[1;32mC:\\Users\\YuHang\\Desktop\\Water_Maze\\v0.17\\Analysis\\envVMWM.py\u001b[0m in \u001b[0;36mstart\u001b[1;34m(self, grayScale, humanPlayer)\u001b[0m\n\u001b[0;32m    149\u001b[0m         \u001b[1;31m# Set up Socket\u001b[0m\u001b[1;33m\u001b[0m\u001b[1;33m\u001b[0m\u001b[0m\n\u001b[0;32m    150\u001b[0m         \u001b[0ms\u001b[0m \u001b[1;33m=\u001b[0m \u001b[0msocket\u001b[0m\u001b[1;33m.\u001b[0m\u001b[0msocket\u001b[0m\u001b[1;33m(\u001b[0m\u001b[0msocket\u001b[0m\u001b[1;33m.\u001b[0m\u001b[0mAF_INET\u001b[0m\u001b[1;33m,\u001b[0m \u001b[0msocket\u001b[0m\u001b[1;33m.\u001b[0m\u001b[0mSOCK_STREAM\u001b[0m\u001b[1;33m)\u001b[0m\u001b[1;33m\u001b[0m\u001b[0m\n\u001b[1;32m--> 151\u001b[1;33m         \u001b[0ms\u001b[0m\u001b[1;33m.\u001b[0m\u001b[0mconnect\u001b[0m\u001b[1;33m(\u001b[0m\u001b[1;33m(\u001b[0m\u001b[0mTCP_IP\u001b[0m\u001b[1;33m,\u001b[0m \u001b[0mTCP_PORT\u001b[0m\u001b[1;33m)\u001b[0m\u001b[1;33m)\u001b[0m\u001b[1;33m\u001b[0m\u001b[0m\n\u001b[0m\u001b[0;32m    152\u001b[0m         \u001b[0ms\u001b[0m\u001b[1;33m.\u001b[0m\u001b[0msetblocking\u001b[0m\u001b[1;33m(\u001b[0m\u001b[1;36m0\u001b[0m\u001b[1;33m)\u001b[0m\u001b[1;33m\u001b[0m\u001b[0m\n\u001b[0;32m    153\u001b[0m         \u001b[0mprint\u001b[0m\u001b[1;33m(\u001b[0m\u001b[1;34m'connection established'\u001b[0m\u001b[1;33m)\u001b[0m\u001b[1;33m\u001b[0m\u001b[0m\n",
      "\u001b[1;31mTimeoutError\u001b[0m: [WinError 10060] A connection attempt failed because the connected party did not properly respond after a period of time, or established connection failed because connected host has failed to respond"
     ]
    }
   ],
   "source": [
    "env.start()"
   ]
  },
  {
   "cell_type": "code",
   "execution_count": null,
   "metadata": {
    "collapsed": true
   },
   "outputs": [],
   "source": [
    "import cv2\n",
    "cv2.startWindowThread()\n",
    "\n",
    "env.start_trial()\n",
    "\n",
    "while (i < 20):\n",
    "    while(!env.is_episode_finished()):\n",
    "        \n",
    "        cv2.imshow('frame', env.get_screenImage())\n",
    "        #cv2.waitKey(1)\n",
    "        env.make_action()\n",
    "        cv2.imshow('frame', env.get_screenImage())\n",
    "        print(env.get_reward())\n",
    "        print(env.get_score())\n",
    "        \n",
    "    env.new_episode()\n",
    "\n",
    "env.end_tria  l()\n",
    "s.close()\n",
    "cv2.destroyAllWindows()"
   ]
  },
  {
   "cell_type": "code",
   "execution_count": null,
   "metadata": {
    "collapsed": true
   },
   "outputs": [],
   "source": []
  }
 ],
 "metadata": {
  "anaconda-cloud": {},
  "kernelspec": {
   "display_name": "Python [conda env:Maze]",
   "language": "python",
   "name": "conda-env-Maze-py"
  }
 },
 "nbformat": 4,
 "nbformat_minor": 1
}
