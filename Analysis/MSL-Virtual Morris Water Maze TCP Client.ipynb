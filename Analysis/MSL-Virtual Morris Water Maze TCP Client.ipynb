{
 "cells": [
  {
   "cell_type": "markdown",
   "metadata": {},
   "source": [
    "# A3C Virtual Morris Water Maze\n",
    "\n",
    "VMWM unity environment is a play ground to test navigation ability of patient with hippocampus trauma. Test subject is randomly rebornd and is to relocate the platform by using visual cues only after flags (show where the platform is under the water surface) are off.\n",
    "\n",
    "The A.I. agent is to replicte similar behavior by using state-of-the-art deep learning model. \n",
    "\n",
    "![Maze.png](maze.png)\n",
    "\n",
    "![Capture.PNG](http://upload-images.jianshu.io/upload_images/1873837-26d77968be99b564.PNG?imageMogr2/auto-orient/strip%7CimageView2/2/w/1240)"
   ]
  },
  {
   "cell_type": "markdown",
   "metadata": {},
   "source": [
    "## Import Package"
   ]
  },
  {
   "cell_type": "code",
   "execution_count": 1,
   "metadata": {
    "collapsed": false
   },
   "outputs": [],
   "source": [
    "load_model = False # model's gonna use load_model as a global variable, so put it in front of model.\n",
    "from model import *\n",
    "import sys\n",
    "import os\n",
    "from inspect_checkpoints import print_tensors_in_checkpoint_file # Get it imported only for pre-trained models\n",
    "checkpoints_dir = './tmp/checkpoints' # Get it only for pre-trained models"
   ]
  },
  {
   "cell_type": "markdown",
   "metadata": {},
   "source": [
    "## VMWM Setup"
   ]
  },
  {
   "cell_type": "code",
   "execution_count": 2,
   "metadata": {
    "collapsed": true
   },
   "outputs": [],
   "source": [
    "max_episode_length = 200\n",
    "gamma = .99 # discount rate for advantage estimation and reward discounting\n",
    "s_size = 160*160 # Observations are greyscale frames of 84 * 84 * 1\n",
    "a_size = 3 # Agent can move Left, Right, or Fire\n",
    "load_model = False\n",
    "model_path = './model'\n",
    "noisy=True"
   ]
  },
  {
   "cell_type": "markdown",
   "metadata": {},
   "source": [
    "## VMWM Train"
   ]
  },
  {
   "cell_type": "code",
   "execution_count": 3,
   "metadata": {
    "collapsed": false
   },
   "outputs": [
    {
     "name": "stdout",
     "output_type": "stream",
     "text": [
      "local host--127.0.0.1:57192\n",
      "local host--127.0.0.1:57199\n",
      "local host--127.0.0.1:57203\n",
      "local host--127.0.0.1:57207\n",
      "local host--127.0.0.1:57215\n",
      "Starting worker 0\n",
      "Starting worker 1\n",
      "Starting worker 2\n",
      "Starting worker 3\n",
      "Starting worker 4\n"
     ]
    },
    {
     "name": "stderr",
     "output_type": "stream",
     "text": [
      "C:\\Users\\YuHang\\Anaconda2\\envs\\Maze\\lib\\site-packages\\numpy\\core\\fromnumeric.py:2889: RuntimeWarning: Mean of empty slice.\n",
      "  out=out, **kwargs)\n",
      "C:\\Users\\YuHang\\Anaconda2\\envs\\Maze\\lib\\site-packages\\numpy\\core\\_methods.py:80: RuntimeWarning: invalid value encountered in double_scalars\n",
      "  ret = ret.dtype.type(ret / rcount)\n",
      " 50%|██████████████████████████████████████████                                          | 1/2 [00:00<00:00, 86.73it/s]\n"
     ]
    },
    {
     "name": "stdout",
     "output_type": "stream",
     "text": [
      "The connection was closed.\n",
      "Doesn't read episode info.\n"
     ]
    },
    {
     "name": "stderr",
     "output_type": "stream",
     "text": [
      "Exception in thread Thread-11:\n",
      "Traceback (most recent call last):\n",
      "  File \"C:\\Users\\YuHang\\Anaconda2\\envs\\Maze\\lib\\threading.py\", line 914, in _bootstrap_inner\n",
      "    self.run()\n",
      "  File \"C:\\Users\\YuHang\\Anaconda2\\envs\\Maze\\lib\\threading.py\", line 862, in run\n",
      "    self._target(*self._args, **self._kwargs)\n",
      "  File \"<ipython-input-3-90bdd0304d88>\", line 36, in <lambda>\n",
      "    worker_work = lambda: worker.work(max_episode_length,gamma,sess,coord,saver)\n",
      "  File \"C:\\Users\\YuHang\\Desktop\\Water_Maze\\v0.18\\Analysis\\model.py\", line 365, in work\n",
      "    self.env.new_episode()\n",
      "  File \"C:\\Users\\YuHang\\Desktop\\Water_Maze\\v0.18\\Analysis\\envVMWM.py\", line 207, in new_episode\n",
      "    self.s.send(bytes(\"PauseSpace\" + END_TOKEN, 'utf8'))\n",
      "ConnectionResetError: [WinError 10054] An existing connection was forcibly closed by the remote host\n",
      "\n"
     ]
    },
    {
     "name": "stdout",
     "output_type": "stream",
     "text": [
      "The connection was closed.\n",
      "Doesn't read image as input.\n"
     ]
    },
    {
     "name": "stderr",
     "output_type": "stream",
     "text": [
      "Exception in thread Thread-15:\n",
      "Traceback (most recent call last):\n",
      "  File \"C:\\Users\\YuHang\\Anaconda2\\envs\\Maze\\lib\\threading.py\", line 914, in _bootstrap_inner\n",
      "    self.run()\n",
      "  File \"C:\\Users\\YuHang\\Anaconda2\\envs\\Maze\\lib\\threading.py\", line 862, in run\n",
      "    self._target(*self._args, **self._kwargs)\n",
      "  File \"<ipython-input-3-90bdd0304d88>\", line 36, in <lambda>\n",
      "    worker_work = lambda: worker.work(max_episode_length,gamma,sess,coord,saver)\n",
      "  File \"C:\\Users\\YuHang\\Desktop\\Water_Maze\\v0.18\\Analysis\\model.py\", line 264, in work\n",
      "    s = process_frame(s)\n",
      "  File \"C:\\Users\\YuHang\\Desktop\\Water_Maze\\v0.18\\Analysis\\helper.py\", line 53, in process_frame\n",
      "    s = scipy.misc.imresize(s,[84,84])\n",
      "  File \"C:\\Users\\YuHang\\Anaconda2\\envs\\Maze\\lib\\site-packages\\scipy\\misc\\pilutil.py\", line 480, in imresize\n",
      "    im = toimage(arr, mode=mode)\n",
      "  File \"C:\\Users\\YuHang\\Anaconda2\\envs\\Maze\\lib\\site-packages\\scipy\\misc\\pilutil.py\", line 289, in toimage\n",
      "    raise ValueError(\"'arr' does not have a suitable array shape for \"\n",
      "ValueError: 'arr' does not have a suitable array shape for any mode.\n",
      "\n"
     ]
    },
    {
     "name": "stdout",
     "output_type": "stream",
     "text": [
      "The connection was closed.\n",
      "Doesn't read image as input.\n"
     ]
    },
    {
     "name": "stderr",
     "output_type": "stream",
     "text": [
      "Exception in thread Thread-14:\n",
      "Traceback (most recent call last):\n",
      "  File \"C:\\Users\\YuHang\\Anaconda2\\envs\\Maze\\lib\\threading.py\", line 914, in _bootstrap_inner\n",
      "    self.run()\n",
      "  File \"C:\\Users\\YuHang\\Anaconda2\\envs\\Maze\\lib\\threading.py\", line 862, in run\n",
      "    self._target(*self._args, **self._kwargs)\n",
      "  File \"<ipython-input-3-90bdd0304d88>\", line 36, in <lambda>\n",
      "    worker_work = lambda: worker.work(max_episode_length,gamma,sess,coord,saver)\n",
      "  File \"C:\\Users\\YuHang\\Desktop\\Water_Maze\\v0.18\\Analysis\\model.py\", line 264, in work\n",
      "    s = process_frame(s)\n",
      "  File \"C:\\Users\\YuHang\\Desktop\\Water_Maze\\v0.18\\Analysis\\helper.py\", line 53, in process_frame\n",
      "    s = scipy.misc.imresize(s,[84,84])\n",
      "  File \"C:\\Users\\YuHang\\Anaconda2\\envs\\Maze\\lib\\site-packages\\scipy\\misc\\pilutil.py\", line 480, in imresize\n",
      "    im = toimage(arr, mode=mode)\n",
      "  File \"C:\\Users\\YuHang\\Anaconda2\\envs\\Maze\\lib\\site-packages\\scipy\\misc\\pilutil.py\", line 289, in toimage\n",
      "    raise ValueError(\"'arr' does not have a suitable array shape for \"\n",
      "ValueError: 'arr' does not have a suitable array shape for any mode.\n",
      "\n"
     ]
    },
    {
     "name": "stdout",
     "output_type": "stream",
     "text": [
      "The connection was closed.\n",
      "Doesn't read image as input.\n"
     ]
    },
    {
     "name": "stderr",
     "output_type": "stream",
     "text": [
      "Exception in thread Thread-13:\n",
      "Traceback (most recent call last):\n",
      "  File \"C:\\Users\\YuHang\\Anaconda2\\envs\\Maze\\lib\\threading.py\", line 914, in _bootstrap_inner\n",
      "    self.run()\n",
      "  File \"C:\\Users\\YuHang\\Anaconda2\\envs\\Maze\\lib\\threading.py\", line 862, in run\n",
      "    self._target(*self._args, **self._kwargs)\n",
      "  File \"<ipython-input-3-90bdd0304d88>\", line 36, in <lambda>\n",
      "    worker_work = lambda: worker.work(max_episode_length,gamma,sess,coord,saver)\n",
      "  File \"C:\\Users\\YuHang\\Desktop\\Water_Maze\\v0.18\\Analysis\\model.py\", line 264, in work\n",
      "    s = process_frame(s)\n",
      "  File \"C:\\Users\\YuHang\\Desktop\\Water_Maze\\v0.18\\Analysis\\helper.py\", line 53, in process_frame\n",
      "    s = scipy.misc.imresize(s,[84,84])\n",
      "  File \"C:\\Users\\YuHang\\Anaconda2\\envs\\Maze\\lib\\site-packages\\scipy\\misc\\pilutil.py\", line 480, in imresize\n",
      "    im = toimage(arr, mode=mode)\n",
      "  File \"C:\\Users\\YuHang\\Anaconda2\\envs\\Maze\\lib\\site-packages\\scipy\\misc\\pilutil.py\", line 289, in toimage\n",
      "    raise ValueError(\"'arr' does not have a suitable array shape for \"\n",
      "ValueError: 'arr' does not have a suitable array shape for any mode.\n",
      "\n"
     ]
    },
    {
     "name": "stdout",
     "output_type": "stream",
     "text": [
      "The connection was closed.\n",
      "Doesn't read image as input.\n"
     ]
    },
    {
     "name": "stderr",
     "output_type": "stream",
     "text": [
      "Exception in thread Thread-12:\n",
      "Traceback (most recent call last):\n",
      "  File \"C:\\Users\\YuHang\\Anaconda2\\envs\\Maze\\lib\\threading.py\", line 914, in _bootstrap_inner\n",
      "    self.run()\n",
      "  File \"C:\\Users\\YuHang\\Anaconda2\\envs\\Maze\\lib\\threading.py\", line 862, in run\n",
      "    self._target(*self._args, **self._kwargs)\n",
      "  File \"<ipython-input-3-90bdd0304d88>\", line 36, in <lambda>\n",
      "    worker_work = lambda: worker.work(max_episode_length,gamma,sess,coord,saver)\n",
      "  File \"C:\\Users\\YuHang\\Desktop\\Water_Maze\\v0.18\\Analysis\\model.py\", line 264, in work\n",
      "    s = process_frame(s)\n",
      "  File \"C:\\Users\\YuHang\\Desktop\\Water_Maze\\v0.18\\Analysis\\helper.py\", line 53, in process_frame\n",
      "    s = scipy.misc.imresize(s,[84,84])\n",
      "  File \"C:\\Users\\YuHang\\Anaconda2\\envs\\Maze\\lib\\site-packages\\scipy\\misc\\pilutil.py\", line 480, in imresize\n",
      "    im = toimage(arr, mode=mode)\n",
      "  File \"C:\\Users\\YuHang\\Anaconda2\\envs\\Maze\\lib\\site-packages\\scipy\\misc\\pilutil.py\", line 289, in toimage\n",
      "    raise ValueError(\"'arr' does not have a suitable array shape for \"\n",
      "ValueError: 'arr' does not have a suitable array shape for any mode.\n",
      "\n"
     ]
    }
   ],
   "source": [
    "tf.reset_default_graph()\n",
    "\n",
    "if not os.path.exists(model_path):\n",
    "    os.makedirs(model_path)\n",
    "\n",
    "#Create a directory to save episode playback gifs to\n",
    "if not os.path.exists('./frames'):\n",
    "    os.makedirs('./frames')\n",
    "\n",
    "with tf.device(\"/cpu:0\"): \n",
    "    global_episodes = tf.Variable(0,dtype=tf.int32,name='global_episodes',trainable=False)\n",
    "    trainer = tf.train.AdamOptimizer(learning_rate=1e-4)\n",
    "    master_network = AC_Network(s_size,a_size,'global',None,noisy,grayScale=gray) # Generate global network\n",
    "    num_cpu = multiprocessing.cpu_count() # Set workers ot number of available CPU threads\n",
    "    workers = []\n",
    "        # Create worker classes\n",
    "    for i in range(num_workers):\n",
    "        worker = Worker(i,s_size,a_size,trainer,model_path,global_episodes,noisy,grayScale=gray)\n",
    "        workers.append(worker)\n",
    "        worker.start(setting=0)\n",
    "    saver = tf.train.Saver(max_to_keep=5)\n",
    "\n",
    "'''networks = ['global'] + ['worker_'+i for i in str(range(num_workers))]\n",
    "print(networks)'''\n",
    "#key = print_tensors_in_checkpoint_file('./tmp/checkpoints/mobilenet_v1_0.50_160.ckpt', tensor_name='',all_tensors=True)\n",
    "#print(key)\n",
    "\n",
    "with tf.Session() as sess:\n",
    "    coord = tf.train.Coordinator()\n",
    "    if load_model == True:\n",
    "        print ('Loading Model...')\n",
    "        ckpt = tf.train.get_checkpoint_state(model_path)\n",
    "        saver.restore(sess,ckpt.model_checkpoint_path)\n",
    "    else:\n",
    "        '''# Only for pre-trained models: https://github.com/tensorflow/models/tree/master/slim \n",
    "        dict = {}\n",
    "        value = slim.get_model_variables('global'+'/MobilenetV1')\n",
    "        for variable in value:\n",
    "            name = variable.name.replace('global'+'/','').split(':')[0]\n",
    "                #print(name)\n",
    "            if name in key:\n",
    "                dict[name] = variable\n",
    "            #print(dict)\n",
    "            #print(dict)\n",
    "        init_fn = slim.assign_from_checkpoint_fn(\n",
    "                            os.path.join(checkpoints_dir, 'mobilenet_v1_0.50_160.ckpt'),\n",
    "                            dict)\n",
    "        init_fn(sess)'''\n",
    "        sess.run(tf.global_variables_initializer())\n",
    "\n",
    "    # This is where the asynchronous magic happens.\n",
    "    # Start the \"work\" process for each worker in a separate thread.\n",
    "    worker_threads = []\n",
    "    for worker in workers:\n",
    "        worker_work = lambda: worker.work(max_episode_length,gamma,sess,coord,saver)\n",
    "        t = threading.Thread(target=(worker_work))\n",
    "        t.start()\n",
    "        sleep(0.5)\n",
    "        worker_threads.append(t)\n",
    "    coord.join(worker_threads)"
   ]
  }
 ],
 "metadata": {
  "anaconda-cloud": {},
  "kernelspec": {
   "display_name": "Python [conda env:Maze]",
   "language": "python",
   "name": "conda-env-Maze-py"
  },
  "language_info": {
   "codemirror_mode": {
    "name": "ipython",
    "version": 3
   },
   "file_extension": ".py",
   "mimetype": "text/x-python",
   "name": "python",
   "nbconvert_exporter": "python",
   "pygments_lexer": "ipython3",
   "version": "3.5.3"
  }
 },
 "nbformat": 4,
 "nbformat_minor": 1
}
